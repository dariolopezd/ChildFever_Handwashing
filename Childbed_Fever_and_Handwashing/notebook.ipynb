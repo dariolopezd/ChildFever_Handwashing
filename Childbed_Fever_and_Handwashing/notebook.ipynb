{
  "cells": [
    {
      "cell_type": "markdown",
      "source": "# Meet Dr. Ignaz Semmelweis",
      "metadata": {
        "cell_id": "e1d6544761d4414c9d292b505607255b",
        "formattedRanges": [],
        "deepnote_app_coordinates": {
          "h": 5,
          "w": 12,
          "x": 0,
          "y": 0
        },
        "deepnote_cell_type": "text-cell-h1"
      }
    },
    {
      "cell_type": "markdown",
      "source": "Created by Darío López Díaz. Work in progress..",
      "metadata": {
        "cell_id": "7ef9dd08d1574af3a3437f6e4a426a81",
        "formattedRanges": [],
        "deepnote_app_coordinates": {
          "h": 2,
          "w": 8,
          "x": 0,
          "y": 0
        },
        "deepnote_cell_type": "text-cell-p"
      }
    },
    {
      "cell_type": "markdown",
      "source": "<p>Dr. Ignaz Semmelweis, is a Hungarian physician born in 1818 and active at the Vienna General Hospital. If Dr. Semmelweis looks troubled it's probably because he's thinking about <em>childbed fever</em>: A deadly disease affecting women that just have given birth. He is thinking about it because in the early 1840s at the Vienna General Hospital as many as 10% of the women giving birth die from it. He is thinking about it because he knows the cause of childbed fever: It's the contaminated hands of the doctors delivering the babies. And they won't listen to him and <em>wash their hands</em>!</p>\n<p>In this notebook, we're going to reanalyze the data that made Semmelweis discover the importance of <em>handwashing</em>. Let's start by looking at the data that made Semmelweis realize that something was wrong with the procedures at Vienna General Hospital.</p>",
      "metadata": {
        "dc": {
          "key": "13f090f9f0"
        },
        "tags": [
          "context"
        ],
        "cell_id": "b861beb667f546bcaf91ca572d73715e",
        "editable": false,
        "deletable": false,
        "run_control": {
          "frozen": true
        },
        "deepnote_app_coordinates": {
          "h": 5,
          "w": 12,
          "x": 0,
          "y": null
        },
        "deepnote_cell_type": "markdown"
      }
    },
    {
      "cell_type": "code",
      "source": "import pandas as pd\nyearly = pd.read_csv('datasets/yearly_deaths_by_clinic.csv')\nprint(yearly)",
      "metadata": {
        "dc": {
          "key": "13f090f9f0"
        },
        "tags": [
          "sample_code"
        ],
        "cell_id": "8ad9fae28c42485fb9a40afb1b291227",
        "trusted": true,
        "source_hash": "24f9505a",
        "execution_start": 1632343258373,
        "execution_millis": 87,
        "deepnote_app_coordinates": {
          "h": 5,
          "w": 12,
          "x": 0,
          "y": 6
        },
        "deepnote_to_be_reexecuted": false,
        "deepnote_cell_type": "code"
      },
      "outputs": [
        {
          "name": "stdout",
          "text": "    year  births  deaths    clinic\n0   1841    3036     237  clinic 1\n1   1842    3287     518  clinic 1\n2   1843    3060     274  clinic 1\n3   1844    3157     260  clinic 1\n4   1845    3492     241  clinic 1\n5   1846    4010     459  clinic 1\n6   1841    2442      86  clinic 2\n7   1842    2659     202  clinic 2\n8   1843    2739     164  clinic 2\n9   1844    2956      68  clinic 2\n10  1845    3241      66  clinic 2\n11  1846    3754     105  clinic 2\n",
          "output_type": "stream"
        }
      ],
      "execution_count": null
    },
    {
      "cell_type": "markdown",
      "source": "## The alarming number of deaths\n<p>The table above shows the number of women giving birth at the two clinics at the Vienna General Hospital for the years 1841 to 1846. You'll notice that giving birth was very dangerous; an <em>alarming</em> number of women died as the result of childbirth, most of them from childbed fever.</p>\n<p>We see this more clearly if we look at the <em>proportion of deaths</em> out of the number of women giving birth. Let's zoom in on the proportion of deaths at Clinic 1.</p>",
      "metadata": {
        "dc": {
          "key": "45ea098e15"
        },
        "tags": [
          "context"
        ],
        "cell_id": "76ec73351e7744068317110e43197828",
        "editable": false,
        "deletable": false,
        "run_control": {
          "frozen": true
        },
        "deepnote_app_coordinates": {
          "h": 5,
          "w": 12,
          "x": 0,
          "y": 12
        },
        "deepnote_cell_type": "markdown"
      }
    },
    {
      "cell_type": "code",
      "source": "# Calculate proportion of deaths per no. births\n\nyearly['proportion_deaths']= yearly['deaths']/yearly['births']\n\n# Extract Clinic 1 data into clinic_1 and Clinic 2 data into clinic_2\nclinic_1 = yearly[yearly['clinic']=='clinic 1']\nclinic_2 = yearly[yearly['clinic']=='clinic 2']\n\n# Print out clinic_1\nprint(clinic_1)",
      "metadata": {
        "dc": {
          "key": "45ea098e15"
        },
        "tags": [
          "sample_code"
        ],
        "cell_id": "eb76897363f34cecafca2d97c25572b0",
        "trusted": true,
        "source_hash": "6c66887",
        "execution_start": 1632343258437,
        "execution_millis": 61,
        "deepnote_app_coordinates": {
          "h": 5,
          "w": 12,
          "x": 0,
          "y": 18
        },
        "deepnote_to_be_reexecuted": false,
        "deepnote_cell_type": "code"
      },
      "outputs": [
        {
          "name": "stdout",
          "text": "   year  births  deaths    clinic  proportion_deaths\n0  1841    3036     237  clinic 1           0.078063\n1  1842    3287     518  clinic 1           0.157591\n2  1843    3060     274  clinic 1           0.089542\n3  1844    3157     260  clinic 1           0.082357\n4  1845    3492     241  clinic 1           0.069015\n5  1846    4010     459  clinic 1           0.114464\n",
          "output_type": "stream"
        }
      ],
      "execution_count": null
    },
    {
      "cell_type": "markdown",
      "source": "## Death at the clinics\n<p>If we now plot the proportion of deaths at both Clinic 1 and Clinic 2  we'll see a curious pattern…</p>",
      "metadata": {
        "dc": {
          "key": "2bc9206960"
        },
        "tags": [
          "context"
        ],
        "cell_id": "e7582433a206485fb8571bc897c69567",
        "editable": false,
        "deletable": false,
        "run_control": {
          "frozen": true
        },
        "deepnote_app_coordinates": {
          "h": 5,
          "w": 12,
          "x": 0,
          "y": 24
        },
        "deepnote_cell_type": "markdown"
      }
    },
    {
      "cell_type": "code",
      "source": "# This makes plots appear in the notebook\n%matplotlib inline\n\n# Plot yearly proportion of deaths at the two clinics\nax = clinic_1.plot(x=\"year\", y=\"proportion_deaths\",\n              label=\"Clinic 1\")\nclinic_2.plot(x=\"year\", y=\"proportion_deaths\",\n         label=\"Clinic 2\", ax=ax, ylabel=\"Proportion of Deaths\",xlabel=\"Year\")",
      "metadata": {
        "dc": {
          "key": "2bc9206960"
        },
        "tags": [
          "sample_code"
        ],
        "cell_id": "7311ced0fb054a3aad97554ed75cd892",
        "trusted": true,
        "source_hash": "798922a3",
        "execution_start": 1632343258470,
        "execution_millis": 1418,
        "deepnote_app_coordinates": {
          "h": 5,
          "w": 12,
          "x": 0,
          "y": 30
        },
        "deepnote_to_be_reexecuted": false,
        "deepnote_cell_type": "code"
      },
      "outputs": [
        {
          "output_type": "execute_result",
          "execution_count": 3,
          "data": {
            "text/plain": "<AxesSubplot:xlabel='Year', ylabel='Proportion of Deaths'>"
          },
          "metadata": {}
        },
        {
          "data": {
            "text/plain": "<Figure size 432x288 with 1 Axes>",
            "image/png": "[encoded data removed]"
          },
          "metadata": {
            "needs_background": "light",
            "image/png": {
              "width": 392,
              "height": 262
            }
          },
          "output_type": "display_data"
        }
      ],
      "execution_count": null
    },
    {
      "cell_type": "markdown",
      "source": "## The handwashing begins\n<p>Why is the proportion of deaths consistently so much higher in Clinic 1? Semmelweis saw the same pattern and was puzzled and distressed. The only difference between the clinics was that many medical students served at Clinic 1, while mostly midwife students served at Clinic 2. While the midwives only tended to the women giving birth, the medical students also spent time in the autopsy rooms examining corpses. </p>\n<p>Semmelweis started to suspect that something on the corpses spread from the hands of the medical students, caused childbed fever. So in a desperate attempt to stop the high mortality rates, he decreed: <em>Wash your hands!</em> This was an unorthodox and controversial request, nobody in Vienna knew about bacteria at this point in time. </p>\n<p>Let's load in monthly data from Clinic 1 to see if the handwashing had any effect.</p>",
      "metadata": {
        "dc": {
          "key": "0c9fdbf550"
        },
        "tags": [
          "context"
        ],
        "cell_id": "39bd72c569504855ab4da0e2db782f75",
        "editable": false,
        "deletable": false,
        "run_control": {
          "frozen": true
        },
        "deepnote_app_coordinates": {
          "h": 5,
          "w": 12,
          "x": 0,
          "y": 36
        },
        "deepnote_cell_type": "markdown"
      }
    },
    {
      "cell_type": "code",
      "source": "# Read datasets/monthly_deaths.csv into monthly\nmonthly = pd.read_csv('datasets/monthly_deaths.csv', \n    parse_dates=[\"date\"]) \n\n# Calculate proportion of deaths per no. births\nmonthly[\"proportion_deaths\"] = monthly['deaths'] / monthly['births']\n\n# Print out the first rows in monthly\nmonthly.loc[0]",
      "metadata": {
        "dc": {
          "key": "0c9fdbf550"
        },
        "tags": [
          "sample_code"
        ],
        "cell_id": "00360d78876f4da3b268ce6cf01835b9",
        "trusted": true,
        "source_hash": "a17f12c0",
        "execution_start": 1632343259901,
        "execution_millis": 19,
        "deepnote_app_coordinates": {
          "h": 5,
          "w": 12,
          "x": 0,
          "y": 42
        },
        "deepnote_to_be_reexecuted": false,
        "deepnote_cell_type": "code"
      },
      "outputs": [
        {
          "output_type": "execute_result",
          "execution_count": 4,
          "data": {
            "text/plain": "date                 1841-01-01 00:00:00\nbirths                               254\ndeaths                                37\nproportion_deaths               0.145669\nName: 0, dtype: object"
          },
          "metadata": {}
        }
      ],
      "execution_count": null
    },
    {
      "cell_type": "markdown",
      "source": "## The effect of handwashing\n<p>With the data loaded we can now look at the proportion of deaths over time. In the plot below we haven't marked where obligatory handwashing started, but it reduced the proportion of deaths to such a degree that you should be able to spot it!</p>",
      "metadata": {
        "dc": {
          "key": "2da2a84119"
        },
        "tags": [
          "context"
        ],
        "cell_id": "415926851db74f6991a6f657828e19bd",
        "editable": false,
        "deletable": false,
        "run_control": {
          "frozen": true
        },
        "deepnote_app_coordinates": {
          "h": 5,
          "w": 12,
          "x": 0,
          "y": 48
        },
        "deepnote_cell_type": "markdown"
      }
    },
    {
      "cell_type": "code",
      "source": "# Plot monthly proportion of deaths\nax = monthly.plot(x=\"date\", y=\"proportion_deaths\")",
      "metadata": {
        "dc": {
          "key": "2da2a84119"
        },
        "tags": [
          "sample_code"
        ],
        "cell_id": "fd22b51d3c2e416ca1997627f25d4b93",
        "trusted": true,
        "source_hash": "e17b537c",
        "execution_start": 1632343259956,
        "execution_millis": 475,
        "deepnote_app_coordinates": {
          "h": 5,
          "w": 12,
          "x": 0,
          "y": 54
        },
        "deepnote_to_be_reexecuted": false,
        "deepnote_cell_type": "code"
      },
      "outputs": [
        {
          "data": {
            "text/plain": "<Figure size 432x288 with 1 Axes>",
            "image/png": "[encoded data removed]"
          },
          "metadata": {
            "needs_background": "light",
            "image/png": {
              "width": 378,
              "height": 252
            }
          },
          "output_type": "display_data"
        }
      ],
      "execution_count": null
    },
    {
      "cell_type": "markdown",
      "source": "## The effect of handwashing highlighted\n<p>Starting from the summer of 1847 the proportion of deaths is drastically reduced and, yes, this was when Semmelweis made handwashing obligatory. </p>\n<p>The effect of handwashing is made even more clear if we highlight this in the graph.</p>",
      "metadata": {
        "dc": {
          "key": "518e95acc5"
        },
        "tags": [
          "context"
        ],
        "cell_id": "863f5cbfae724f15ad4099ead4aef99f",
        "editable": false,
        "deletable": false,
        "run_control": {
          "frozen": true
        },
        "deepnote_app_coordinates": {
          "h": 5,
          "w": 12,
          "x": 0,
          "y": 60
        },
        "deepnote_cell_type": "markdown"
      }
    },
    {
      "cell_type": "code",
      "source": "# Date when handwashing was made mandatory\nhandwashing_start = pd.to_datetime('1847-06-01')\n\n# Split monthly into before and after handwashing_start\nbefore_washing = monthly[monthly['date'] < handwashing_start]\nafter_washing = monthly[monthly['date'] >= handwashing_start]\n\n# Plot monthly proportion of deaths before and after handwashing\nax = before_washing.plot(x=\"date\", y=\"proportion_deaths\",\n              label=\"Before Washing\")\nafter_washing.plot(x=\"date\", y=\"proportion_deaths\",\n         label=\"After Washing\", ax=ax,  ylabel=\"Proportion of Deaths\",xlabel=\"Year\")",
      "metadata": {
        "dc": {
          "key": "518e95acc5"
        },
        "tags": [
          "sample_code"
        ],
        "cell_id": "5d7d5a1b06334373b7c363578052beee",
        "trusted": true,
        "source_hash": "cf75e0a0",
        "execution_start": 1632343260317,
        "execution_millis": 415,
        "deepnote_app_coordinates": {
          "h": 5,
          "w": 12,
          "x": 0,
          "y": 66
        },
        "deepnote_to_be_reexecuted": false,
        "deepnote_cell_type": "code"
      },
      "outputs": [
        {
          "output_type": "execute_result",
          "execution_count": 6,
          "data": {
            "text/plain": "<AxesSubplot:xlabel='Year', ylabel='Proportion of Deaths'>"
          },
          "metadata": {}
        },
        {
          "data": {
            "text/plain": "<Figure size 432x288 with 1 Axes>",
            "image/png": "[encoded data removed]"
          },
          "metadata": {
            "needs_background": "light",
            "image/png": {
              "width": 392,
              "height": 252
            }
          },
          "output_type": "display_data"
        }
      ],
      "execution_count": null
    },
    {
      "cell_type": "markdown",
      "source": "## More handwashing, fewer deaths?\n<p>Again, the graph shows that handwashing had a huge effect. How much did it reduce the monthly proportion of deaths on average?</p>",
      "metadata": {
        "dc": {
          "key": "586a9f9803"
        },
        "tags": [
          "context"
        ],
        "cell_id": "1912d0afd627419e9ea5f791f5a22d00",
        "editable": false,
        "deletable": false,
        "run_control": {
          "frozen": true
        },
        "deepnote_app_coordinates": {
          "h": 5,
          "w": 12,
          "x": 0,
          "y": 72
        },
        "deepnote_cell_type": "markdown"
      }
    },
    {
      "cell_type": "code",
      "source": "# Difference in mean monthly proportion of deaths due to handwashing\nbefore_proportion = before_washing['proportion_deaths']\nafter_proportion = after_washing['proportion_deaths']\nmean_diff = after_proportion.mean() - before_proportion.mean() \nmean_diff",
      "metadata": {
        "dc": {
          "key": "586a9f9803"
        },
        "tags": [
          "sample_code"
        ],
        "cell_id": "7e7f2fe0b18a4e178afec336d0ccf76e",
        "trusted": true,
        "source_hash": "7c367cb8",
        "execution_start": 1632343260780,
        "execution_millis": 17,
        "deepnote_app_coordinates": {
          "h": 5,
          "w": 12,
          "x": 0,
          "y": 78
        },
        "deepnote_to_be_reexecuted": false,
        "deepnote_cell_type": "code"
      },
      "outputs": [
        {
          "output_type": "execute_result",
          "execution_count": 7,
          "data": {
            "text/plain": "-0.08395660751183336"
          },
          "metadata": {}
        }
      ],
      "execution_count": null
    },
    {
      "cell_type": "markdown",
      "source": "<p>It reduced the proportion of deaths by around 8 percentage points! From 10% on average to just 2% (which is still a high number by modern standards)",
      "metadata": {
        "dc": {
          "key": "d8ff65292a"
        },
        "tags": [
          "context"
        ],
        "cell_id": "a2a4faceb72b42ebae625d2c97f8d74f",
        "editable": false,
        "deletable": false,
        "run_control": {
          "frozen": true
        },
        "deepnote_app_coordinates": {
          "h": 5,
          "w": 12,
          "x": 0,
          "y": 84
        },
        "deepnote_cell_type": "markdown"
      }
    },
    {
      "cell_type": "markdown",
      "source": "<a style='text-decoration:none;line-height:16px;display:flex;color:#5B5B62;padding:10px;justify-content:end;' href='https://deepnote.com?utm_source=created-in-deepnote-cell&projectId=a8aa82a0-ad53-47e9-896a-62d8554999cd' target=\"_blank\">\n<img alt='Created in deepnote.com' style='display:inline;max-height:16px;margin:0px;margin-right:7.5px;' src='data:image/svg+xml;base64,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' > </img>\nCreated in <span style='font-weight:600;margin-left:4px;'>Deepnote</span></a>",
      "metadata": {
        "created_in_deepnote_cell": true,
        "deepnote_cell_type": "markdown"
      }
    }
  ],
  "nbformat": 4,
  "nbformat_minor": 0,
  "metadata": {
    "deepnote": {},
    "kernelspec": {
      "name": "python3",
      "language": "python",
      "display_name": "Python 3"
    },
    "language_info": {
      "name": "python",
      "version": "3.6.7",
      "mimetype": "text/x-python",
      "file_extension": ".py",
      "pygments_lexer": "ipython3",
      "codemirror_mode": {
        "name": "ipython",
        "version": 3
      },
      "nbconvert_exporter": "python"
    },
    "deepnote_app_layout": "article",
    "deepnote_notebook_id": "21613e91cffd49219c0441d879427a52",
    "deepnote_execution_queue": []
  }
}